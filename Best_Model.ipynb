{
  "nbformat": 4,
  "nbformat_minor": 0,
  "metadata": {
    "colab": {
      "provenance": []
    },
    "kernelspec": {
      "name": "python3",
      "display_name": "Python 3"
    },
    "language_info": {
      "name": "python"
    }
  },
  "cells": [
    {
      "cell_type": "markdown",
      "source": [
        "**Best model for the given dataset using Random Forest Classifier and running it with the new dataset**"
      ],
      "metadata": {
        "id": "Hy-Gx9H2kG1i"
      }
    },
    {
      "cell_type": "code",
      "source": [
        "import pandas as pd\n",
        "import numpy as np\n",
        "from sklearn.model_selection import train_test_split, GridSearchCV\n",
        "from sklearn.ensemble import RandomForestClassifier\n",
        "from sklearn.model_selection import RandomizedSearchCV\n",
        "from sklearn.metrics import accuracy_score\n",
        "from sklearn.metrics import classification_report\n",
        "from sklearn.feature_selection import SelectKBest\n",
        "from sklearn.feature_selection import chi2\n",
        "from sklearn.preprocessing import MinMaxScaler, StandardScaler, RobustScaler\n",
        "import joblib\n",
        "\n",
        "# Load the dataset\n",
        "df = pd.read_csv(\"https://raw.githubusercontent.com/andvise/DataAnalyticsDatasets/main/train_dataset.csv\", index_col=0)\n",
        "\n",
        "# Replace infinite and missing values with 0\n",
        "df = df.replace([np.inf, -np.inf], 0)\n",
        "df = df.fillna(0)\n",
        "\n",
        "X = df.iloc[:, :-1]\n",
        "y = df.iloc[:, -1]\n",
        "\n",
        "# Feature normalization using StandardScaler\n",
        "scaler = StandardScaler()\n",
        "X = scaler.fit_transform(X)\n",
        "\n",
        "# Split the data into training and testing sets\n",
        "X_train, X_test, y_train, y_test = train_test_split(X, y, test_size=0.3, random_state=42)\n",
        "\n",
        "# Create the Random Forest Classifier\n",
        "rfc = RandomForestClassifier(random_state=42)\n",
        "\n",
        "# Define the hyperparameters to tune\n",
        "param_grid = {\n",
        "    'n_estimators': [50, 100, 200],\n",
        "    'max_depth': [10, 20, 30],\n",
        "    'min_samples_split': [2, 5, 10],\n",
        "    'min_samples_leaf': [1, 2, 4]\n",
        "}\n",
        "\n",
        "# Train and tune the Random Forest Classifier using GridSearchCV\n",
        "grid_search = GridSearchCV(estimator=rfc, param_grid=param_grid, cv=5, n_jobs=-1)\n",
        "\n",
        "# Fit the GridSearchCV object to the training data\n",
        "grid_search.fit(X_train, y_train)\n",
        "\n",
        "# Get the best estimator and its parameters\n",
        "best_rfc = grid_search.best_estimator_\n",
        "best_params = grid_search.best_params_\n",
        "\n",
        "# Evaluate the model on the test dataset\n",
        "y_pred = best_rfc.predict(X_test)\n",
        "accuracy = accuracy_score(y_test, y_pred)\n",
        "print('Accuracy obtained by Random Forest Classifier:', accuracy)\n",
        "print('\\nClassification report:\\n', classification_report(y_test, y_pred))\n",
        "\n",
        "\n",
        "# Save the best model to a file\n",
        "joblib.dump(best_rfc, 'random_forest_model.joblib')\n",
        "\n",
        "# Load the saved model\n",
        "rf_bestmodel = joblib.load('random_forest_model.joblib')\n",
        "\n",
        "# Load the test dataset\n",
        "test_df = pd.read_csv('https://raw.githubusercontent.com/andvise/DataAnalyticsDatasets/main/test_dataset.csv', index_col=0)\n",
        "test_df = test_df.replace([np.inf, -np.inf], 0)\n",
        "test_df = test_df.fillna(0)\n",
        "\n",
        "# Split into features and target\n",
        "X_test_dat = test_df.iloc[:, :-1]\n",
        "y_test_dat = test_df.iloc[:, -1]\n",
        "\n",
        "# Feature normalization\n",
        "scaler = StandardScaler()\n",
        "X_test_dat = scaler.fit_transform(X_test_dat)\n",
        "\n",
        "# Make predictions on the test data\n",
        "y_pred_b = rf_bestmodel.predict(X_test_dat)\n",
        "\n",
        "# Calculate the accuracy of the classifier\n",
        "accuracy_final = accuracy_score(y_test_dat, y_pred_b)\n",
        "print('\\nAccuracy of the best model on the new dataset:', accuracy_final)\n"
      ],
      "metadata": {
        "colab": {
          "base_uri": "https://localhost:8080/"
        },
        "id": "R1goK4GUkH0h",
        "outputId": "8c0d8bdd-c2d0-4eaa-d6f4-ca3900dd4477"
      },
      "execution_count": 2,
      "outputs": [
        {
          "output_type": "stream",
          "name": "stdout",
          "text": [
            "Accuracy obtained by Random Forest Classifier: 0.9986187845303868\n",
            "\n",
            "Classification report:\n",
            "                 precision    recall  f1-score   support\n",
            "\n",
            "       3clique       1.00      1.00      1.00        28\n",
            "        3color       1.00      1.00      1.00        32\n",
            "       4clique       1.00      0.95      0.98        22\n",
            "        4color       1.00      1.00      1.00        37\n",
            "       5clique       0.97      1.00      0.98        30\n",
            "        5color       1.00      1.00      1.00        35\n",
            "cliquecoloring       1.00      1.00      1.00        85\n",
            "    dominating       1.00      1.00      1.00        85\n",
            "      matching       1.00      1.00      1.00        27\n",
            "            op       1.00      1.00      1.00        58\n",
            "           php       1.00      1.00      1.00        70\n",
            "    subsetcard       1.00      1.00      1.00        77\n",
            "        tiling       1.00      1.00      1.00        42\n",
            "       tseitin       1.00      1.00      1.00        96\n",
            "\n",
            "      accuracy                           1.00       724\n",
            "     macro avg       1.00      1.00      1.00       724\n",
            "  weighted avg       1.00      1.00      1.00       724\n",
            "\n",
            "\n",
            "Accuracy of the best model on the new dataset: 0.9979381443298969\n"
          ]
        }
      ]
    }
  ]
}